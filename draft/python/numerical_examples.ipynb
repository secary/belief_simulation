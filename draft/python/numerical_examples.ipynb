{
 "cells": [
  {
   "cell_type": "code",
   "execution_count": 11,
   "id": "ef56272a",
   "metadata": {},
   "outputs": [],
   "source": [
    "import numpy as np, pandas as pd, matplotlib.pyplot as plt\n",
    "import warnings\n",
    "warnings.filterwarnings(\"ignore\", category=FutureWarning)\n"
   ]
  },
  {
   "cell_type": "markdown",
   "id": "27c6dfab",
   "metadata": {},
   "source": [
    "By using the equation from [1]:\n",
    "$$\n",
    "x_i(t+1) = \\sum_{j=1}^{n} W_{ij} C_i x_j(t)\n",
    "$$\n",
    "\n",
    "\n",
    "[1] M. Ye, J. Liu, L. Wang, B. D. O. Anderson, and M. Cao, “Consensus and Disagreement of\n",
    "Heterogeneous Belief Systems in Influence Networks,” IEEE Transactions on Automatic\n",
    "Control, vol. 65, no. 11, pp. 4679–4694, Nov. 2020. [Online]. Available:\n",
    "https://ieeexplore.ieee.org/document/8941271/"
   ]
  },
  {
   "cell_type": "code",
   "execution_count": 12,
   "id": "b07e325e",
   "metadata": {},
   "outputs": [],
   "source": [
    "c = np.array([\n",
    "    np.array([\n",
    "    [0.8, -0.2],\n",
    "    [-0.4, 0.6]\n",
    "]),\n",
    "    np.array([\n",
    "    [0.8, 0.2],\n",
    "    [0.4, 0.6]\n",
    "])\n",
    "])\n",
    "\n",
    "x = np.array([\n",
    "    np.array([\n",
    "    [1],\n",
    "    [-0.3]\n",
    "]),\n",
    "np.array([\n",
    "    [-0.9],\n",
    "    [-0.8]\n",
    "])\n",
    "])\n",
    "\n",
    "w1 = np.array([\n",
    "    [0.9, 0.1],\n",
    "    [0.1, 0.9]\n",
    "])\n",
    "\n",
    "w2 = np.array([\n",
    "    [0.9, 0.1],\n",
    "    [0.8, 0.2]\n",
    "])\n",
    "\n",
    "w3 = np.array([\n",
    "    [1, 0],\n",
    "    [0.1, 0.9]\n",
    "])"
   ]
  },
  {
   "cell_type": "code",
   "execution_count": 13,
   "id": "33394585",
   "metadata": {},
   "outputs": [],
   "source": [
    "def belief_dynamic(t, w, x=x, c=c) -> pd.DataFrame:\n",
    "    df = pd.DataFrame(columns=[\"t\", \"x1_0\", \"x1_1\", \"x2_0\", \"x2_1\"])\n",
    "    \n",
    "    x = [x[0].copy(), x[1].copy()]\n",
    "    \n",
    "    df = pd.concat([df, pd.DataFrame({\n",
    "        \"t\": [0],\n",
    "        \"x1_0\": [float(x[0][0,0])], \"x1_1\": [float(x[0][1,0])],\n",
    "        \"x2_0\": [float(x[1][0,0])], \"x2_1\": [float(x[1][1,0])]\n",
    "    })], ignore_index=True)\n",
    "    \n",
    "    for step in range(1, t+1):\n",
    "        old_x0, old_x1 = x[0], x[1]\n",
    "        \n",
    "        \n",
    "        new_x0 = w[0, 0] * (c[0] @ old_x0) + w[0, 1] * (c[1] @ old_x1)\n",
    "        new_x1 = w[1, 0] * (c[0] @ old_x0) + w[1, 1] * (c[1] @ old_x1)\n",
    "        x = [new_x0, new_x1]\n",
    "        \n",
    "        df = pd.concat([df, pd.DataFrame({\n",
    "            \"t\": [step],\n",
    "            \"x1_0\": [float(x[0][0,0])], \"x1_1\": [float(x[0][1,0])],\n",
    "            \"x2_0\": [float(x[1][0,0])], \"x2_1\": [float(x[1][1,0])]\n",
    "        })], ignore_index=True)\n",
    "\n",
    "    return df"
   ]
  },
  {
   "cell_type": "code",
   "execution_count": 14,
   "id": "c493f18f",
   "metadata": {},
   "outputs": [
    {
     "data": {
      "application/vnd.microsoft.datawrangler.viewer.v0+json": {
       "columns": [
        {
         "name": "index",
         "rawType": "int64",
         "type": "integer"
        },
        {
         "name": "t",
         "rawType": "object",
         "type": "unknown"
        },
        {
         "name": "x1_0",
         "rawType": "float64",
         "type": "float"
        },
        {
         "name": "x1_1",
         "rawType": "float64",
         "type": "float"
        },
        {
         "name": "x2_0",
         "rawType": "float64",
         "type": "float"
        },
        {
         "name": "x2_1",
         "rawType": "float64",
         "type": "float"
        }
       ],
       "ref": "cf2044d2-6dd0-4286-9238-91efa37ce02a",
       "rows": [
        [
         "0",
         "0",
         "1.0",
         "-0.3",
         "-0.9",
         "-0.8"
        ],
        [
         "1",
         "1",
         "0.6860000000000002",
         "-0.6060000000000001",
         "-0.7060000000000002",
         "-0.8140000000000001"
        ],
        [
         "2",
         "2",
         "0.5302400000000002",
         "-0.6512800000000002",
         "-0.5878400000000001",
         "-0.75752"
        ],
        [
         "3",
         "3",
         "0.43682560000000015",
         "-0.6115424000000003",
         "-0.5041536000000002",
         "-0.6809696000000001"
        ],
        [
         "4",
         "4",
         "0.3706403840000001",
         "-0.5485144320000002",
         "-0.4383882240000002",
         "-0.6033844480000001"
        ],
        [
         "5",
         "5",
         "0.3184549273600001",
         "-0.48336692736000014",
         "-0.38362720256000016",
         "-0.5313838438400001"
        ]
       ],
       "shape": {
        "columns": 5,
        "rows": 6
       }
      },
      "text/html": [
       "<div>\n",
       "<style scoped>\n",
       "    .dataframe tbody tr th:only-of-type {\n",
       "        vertical-align: middle;\n",
       "    }\n",
       "\n",
       "    .dataframe tbody tr th {\n",
       "        vertical-align: top;\n",
       "    }\n",
       "\n",
       "    .dataframe thead th {\n",
       "        text-align: right;\n",
       "    }\n",
       "</style>\n",
       "<table border=\"1\" class=\"dataframe\">\n",
       "  <thead>\n",
       "    <tr style=\"text-align: right;\">\n",
       "      <th></th>\n",
       "      <th>t</th>\n",
       "      <th>x1_0</th>\n",
       "      <th>x1_1</th>\n",
       "      <th>x2_0</th>\n",
       "      <th>x2_1</th>\n",
       "    </tr>\n",
       "  </thead>\n",
       "  <tbody>\n",
       "    <tr>\n",
       "      <th>0</th>\n",
       "      <td>0</td>\n",
       "      <td>1.000000</td>\n",
       "      <td>-0.300000</td>\n",
       "      <td>-0.900000</td>\n",
       "      <td>-0.800000</td>\n",
       "    </tr>\n",
       "    <tr>\n",
       "      <th>1</th>\n",
       "      <td>1</td>\n",
       "      <td>0.686000</td>\n",
       "      <td>-0.606000</td>\n",
       "      <td>-0.706000</td>\n",
       "      <td>-0.814000</td>\n",
       "    </tr>\n",
       "    <tr>\n",
       "      <th>2</th>\n",
       "      <td>2</td>\n",
       "      <td>0.530240</td>\n",
       "      <td>-0.651280</td>\n",
       "      <td>-0.587840</td>\n",
       "      <td>-0.757520</td>\n",
       "    </tr>\n",
       "    <tr>\n",
       "      <th>3</th>\n",
       "      <td>3</td>\n",
       "      <td>0.436826</td>\n",
       "      <td>-0.611542</td>\n",
       "      <td>-0.504154</td>\n",
       "      <td>-0.680970</td>\n",
       "    </tr>\n",
       "    <tr>\n",
       "      <th>4</th>\n",
       "      <td>4</td>\n",
       "      <td>0.370640</td>\n",
       "      <td>-0.548514</td>\n",
       "      <td>-0.438388</td>\n",
       "      <td>-0.603384</td>\n",
       "    </tr>\n",
       "    <tr>\n",
       "      <th>5</th>\n",
       "      <td>5</td>\n",
       "      <td>0.318455</td>\n",
       "      <td>-0.483367</td>\n",
       "      <td>-0.383627</td>\n",
       "      <td>-0.531384</td>\n",
       "    </tr>\n",
       "  </tbody>\n",
       "</table>\n",
       "</div>"
      ],
      "text/plain": [
       "   t      x1_0      x1_1      x2_0      x2_1\n",
       "0  0  1.000000 -0.300000 -0.900000 -0.800000\n",
       "1  1  0.686000 -0.606000 -0.706000 -0.814000\n",
       "2  2  0.530240 -0.651280 -0.587840 -0.757520\n",
       "3  3  0.436826 -0.611542 -0.504154 -0.680970\n",
       "4  4  0.370640 -0.548514 -0.438388 -0.603384\n",
       "5  5  0.318455 -0.483367 -0.383627 -0.531384"
      ]
     },
     "execution_count": 14,
     "metadata": {},
     "output_type": "execute_result"
    }
   ],
   "source": [
    "belief_dynamic(5, w1)"
   ]
  },
  {
   "cell_type": "code",
   "execution_count": 15,
   "id": "95b512a1",
   "metadata": {},
   "outputs": [
    {
     "data": {
      "application/vnd.microsoft.datawrangler.viewer.v0+json": {
       "columns": [
        {
         "name": "index",
         "rawType": "int64",
         "type": "integer"
        },
        {
         "name": "t",
         "rawType": "object",
         "type": "unknown"
        },
        {
         "name": "x1_0",
         "rawType": "float64",
         "type": "float"
        },
        {
         "name": "x1_1",
         "rawType": "float64",
         "type": "float"
        },
        {
         "name": "x2_0",
         "rawType": "float64",
         "type": "float"
        },
        {
         "name": "x2_1",
         "rawType": "float64",
         "type": "float"
        }
       ],
       "ref": "111dc673-10d1-4d97-9109-9dd1d8aa8e0a",
       "rows": [
        [
         "0",
         "0",
         "1.0",
         "-0.3",
         "-0.9",
         "-0.8"
        ],
        [
         "1",
         "1",
         "0.6860000000000002",
         "-0.6060000000000001",
         "0.5120000000000001",
         "-0.6320000000000001"
        ],
        [
         "2",
         "2",
         "0.6313200000000002",
         "-0.5916400000000002",
         "0.5926400000000002",
         "-0.5452800000000001"
        ],
        [
         "3",
         "3",
         "0.5975512000000003",
         "-0.5557720000000002",
         "0.5717184000000003",
         "-0.5040320000000001"
        ],
        [
         "4",
         "4",
         "0.5659326560000003",
         "-0.5226084960000001",
         "0.5426699520000002",
         "-0.4727333120000002"
        ],
        [
         "5",
         "5",
         "0.5354999715200003",
         "-0.49260154464000017",
         "0.5137321190400004",
         "-0.44526492928000017"
        ]
       ],
       "shape": {
        "columns": 5,
        "rows": 6
       }
      },
      "text/html": [
       "<div>\n",
       "<style scoped>\n",
       "    .dataframe tbody tr th:only-of-type {\n",
       "        vertical-align: middle;\n",
       "    }\n",
       "\n",
       "    .dataframe tbody tr th {\n",
       "        vertical-align: top;\n",
       "    }\n",
       "\n",
       "    .dataframe thead th {\n",
       "        text-align: right;\n",
       "    }\n",
       "</style>\n",
       "<table border=\"1\" class=\"dataframe\">\n",
       "  <thead>\n",
       "    <tr style=\"text-align: right;\">\n",
       "      <th></th>\n",
       "      <th>t</th>\n",
       "      <th>x1_0</th>\n",
       "      <th>x1_1</th>\n",
       "      <th>x2_0</th>\n",
       "      <th>x2_1</th>\n",
       "    </tr>\n",
       "  </thead>\n",
       "  <tbody>\n",
       "    <tr>\n",
       "      <th>0</th>\n",
       "      <td>0</td>\n",
       "      <td>1.000000</td>\n",
       "      <td>-0.300000</td>\n",
       "      <td>-0.900000</td>\n",
       "      <td>-0.800000</td>\n",
       "    </tr>\n",
       "    <tr>\n",
       "      <th>1</th>\n",
       "      <td>1</td>\n",
       "      <td>0.686000</td>\n",
       "      <td>-0.606000</td>\n",
       "      <td>0.512000</td>\n",
       "      <td>-0.632000</td>\n",
       "    </tr>\n",
       "    <tr>\n",
       "      <th>2</th>\n",
       "      <td>2</td>\n",
       "      <td>0.631320</td>\n",
       "      <td>-0.591640</td>\n",
       "      <td>0.592640</td>\n",
       "      <td>-0.545280</td>\n",
       "    </tr>\n",
       "    <tr>\n",
       "      <th>3</th>\n",
       "      <td>3</td>\n",
       "      <td>0.597551</td>\n",
       "      <td>-0.555772</td>\n",
       "      <td>0.571718</td>\n",
       "      <td>-0.504032</td>\n",
       "    </tr>\n",
       "    <tr>\n",
       "      <th>4</th>\n",
       "      <td>4</td>\n",
       "      <td>0.565933</td>\n",
       "      <td>-0.522608</td>\n",
       "      <td>0.542670</td>\n",
       "      <td>-0.472733</td>\n",
       "    </tr>\n",
       "    <tr>\n",
       "      <th>5</th>\n",
       "      <td>5</td>\n",
       "      <td>0.535500</td>\n",
       "      <td>-0.492602</td>\n",
       "      <td>0.513732</td>\n",
       "      <td>-0.445265</td>\n",
       "    </tr>\n",
       "  </tbody>\n",
       "</table>\n",
       "</div>"
      ],
      "text/plain": [
       "   t      x1_0      x1_1      x2_0      x2_1\n",
       "0  0  1.000000 -0.300000 -0.900000 -0.800000\n",
       "1  1  0.686000 -0.606000  0.512000 -0.632000\n",
       "2  2  0.631320 -0.591640  0.592640 -0.545280\n",
       "3  3  0.597551 -0.555772  0.571718 -0.504032\n",
       "4  4  0.565933 -0.522608  0.542670 -0.472733\n",
       "5  5  0.535500 -0.492602  0.513732 -0.445265"
      ]
     },
     "execution_count": 15,
     "metadata": {},
     "output_type": "execute_result"
    }
   ],
   "source": [
    "belief_dynamic(5, w2)"
   ]
  },
  {
   "cell_type": "code",
   "execution_count": 16,
   "id": "fbe58e9f",
   "metadata": {},
   "outputs": [
    {
     "data": {
      "application/vnd.microsoft.datawrangler.viewer.v0+json": {
       "columns": [
        {
         "name": "index",
         "rawType": "int64",
         "type": "integer"
        },
        {
         "name": "t",
         "rawType": "object",
         "type": "unknown"
        },
        {
         "name": "x1_0",
         "rawType": "float64",
         "type": "float"
        },
        {
         "name": "x1_1",
         "rawType": "float64",
         "type": "float"
        },
        {
         "name": "x2_0",
         "rawType": "float64",
         "type": "float"
        },
        {
         "name": "x2_1",
         "rawType": "float64",
         "type": "float"
        }
       ],
       "ref": "ce89d4d2-ca2c-4372-b76f-d2d5d60a00e8",
       "rows": [
        [
         "0",
         "0",
         "1.0",
         "-0.3",
         "-0.9",
         "-0.8"
        ],
        [
         "1",
         "1",
         "0.8600000000000001",
         "-0.5800000000000001",
         "-0.7060000000000002",
         "-0.8140000000000001"
        ],
        [
         "2",
         "2",
         "0.8040000000000002",
         "-0.6920000000000001",
         "-0.5744400000000002",
         "-0.76292"
        ],
        [
         "3",
         "3",
         "0.7816000000000002",
         "-0.7368000000000001",
         "-0.47276240000000025",
         "-0.6924552"
        ],
        [
         "4",
         "4",
         "0.7726400000000002",
         "-0.7547200000000002",
         "-0.38776686400000016",
         "-0.6195922720000001"
        ],
        [
         "5",
         "5",
         "0.7690560000000003",
         "-0.7618880000000001",
         "-0.3138131510400001",
         "-0.5503646979200002"
        ]
       ],
       "shape": {
        "columns": 5,
        "rows": 6
       }
      },
      "text/html": [
       "<div>\n",
       "<style scoped>\n",
       "    .dataframe tbody tr th:only-of-type {\n",
       "        vertical-align: middle;\n",
       "    }\n",
       "\n",
       "    .dataframe tbody tr th {\n",
       "        vertical-align: top;\n",
       "    }\n",
       "\n",
       "    .dataframe thead th {\n",
       "        text-align: right;\n",
       "    }\n",
       "</style>\n",
       "<table border=\"1\" class=\"dataframe\">\n",
       "  <thead>\n",
       "    <tr style=\"text-align: right;\">\n",
       "      <th></th>\n",
       "      <th>t</th>\n",
       "      <th>x1_0</th>\n",
       "      <th>x1_1</th>\n",
       "      <th>x2_0</th>\n",
       "      <th>x2_1</th>\n",
       "    </tr>\n",
       "  </thead>\n",
       "  <tbody>\n",
       "    <tr>\n",
       "      <th>0</th>\n",
       "      <td>0</td>\n",
       "      <td>1.000000</td>\n",
       "      <td>-0.300000</td>\n",
       "      <td>-0.900000</td>\n",
       "      <td>-0.800000</td>\n",
       "    </tr>\n",
       "    <tr>\n",
       "      <th>1</th>\n",
       "      <td>1</td>\n",
       "      <td>0.860000</td>\n",
       "      <td>-0.580000</td>\n",
       "      <td>-0.706000</td>\n",
       "      <td>-0.814000</td>\n",
       "    </tr>\n",
       "    <tr>\n",
       "      <th>2</th>\n",
       "      <td>2</td>\n",
       "      <td>0.804000</td>\n",
       "      <td>-0.692000</td>\n",
       "      <td>-0.574440</td>\n",
       "      <td>-0.762920</td>\n",
       "    </tr>\n",
       "    <tr>\n",
       "      <th>3</th>\n",
       "      <td>3</td>\n",
       "      <td>0.781600</td>\n",
       "      <td>-0.736800</td>\n",
       "      <td>-0.472762</td>\n",
       "      <td>-0.692455</td>\n",
       "    </tr>\n",
       "    <tr>\n",
       "      <th>4</th>\n",
       "      <td>4</td>\n",
       "      <td>0.772640</td>\n",
       "      <td>-0.754720</td>\n",
       "      <td>-0.387767</td>\n",
       "      <td>-0.619592</td>\n",
       "    </tr>\n",
       "    <tr>\n",
       "      <th>5</th>\n",
       "      <td>5</td>\n",
       "      <td>0.769056</td>\n",
       "      <td>-0.761888</td>\n",
       "      <td>-0.313813</td>\n",
       "      <td>-0.550365</td>\n",
       "    </tr>\n",
       "  </tbody>\n",
       "</table>\n",
       "</div>"
      ],
      "text/plain": [
       "   t      x1_0      x1_1      x2_0      x2_1\n",
       "0  0  1.000000 -0.300000 -0.900000 -0.800000\n",
       "1  1  0.860000 -0.580000 -0.706000 -0.814000\n",
       "2  2  0.804000 -0.692000 -0.574440 -0.762920\n",
       "3  3  0.781600 -0.736800 -0.472762 -0.692455\n",
       "4  4  0.772640 -0.754720 -0.387767 -0.619592\n",
       "5  5  0.769056 -0.761888 -0.313813 -0.550365"
      ]
     },
     "execution_count": 16,
     "metadata": {},
     "output_type": "execute_result"
    }
   ],
   "source": [
    "belief_dynamic(5, w3)"
   ]
  },
  {
   "cell_type": "code",
   "execution_count": 17,
   "id": "7174a9b4",
   "metadata": {},
   "outputs": [],
   "source": [
    "def plot(dfs):\n",
    "    fig, axes = plt.subplots(1, 3, figsize=(18, 5), sharey=True)  # 一行三列子图，共享 y 轴\n",
    "\n",
    "    \n",
    "    titles = ['W1', 'W2', 'W3']\n",
    "    for ax, df, title in zip(axes, dfs, titles):\n",
    "        # x1 两个分量 -> 蓝色\n",
    "        ax.plot(df[\"t\"], df[\"x1_0\"], color=\"tab:blue\", marker=\"o\", label=\"x1[1]\")\n",
    "        ax.plot(df[\"t\"], df[\"x1_1\"], color=\"tab:blue\", marker=\"s\", linestyle=\"--\", label=\"x1[2]\")\n",
    "\n",
    "        # x2 两个分量 -> 红色\n",
    "        ax.plot(df[\"t\"], df[\"x2_0\"], color=\"tab:red\", marker=\"o\", label=\"x2[1]\")\n",
    "        ax.plot(df[\"t\"], df[\"x2_1\"], color=\"tab:red\", marker=\"s\", linestyle=\"--\", label=\"x2[2]\")\n",
    "\n",
    "        ax.set_xlabel(\"Time step t\")\n",
    "        ax.set_title(title)\n",
    "        ax.grid(True)\n",
    "\n",
    "    axes[0].set_ylabel(\"State value\")\n",
    "    axes[0].legend(loc=\"best\")\n",
    "\n",
    "    plt.tight_layout()\n",
    "    plt.show()"
   ]
  },
  {
   "cell_type": "code",
   "execution_count": 18,
   "id": "0fca4463",
   "metadata": {},
   "outputs": [
    {
     "data": {
      "image/png": "[encoded data removed]",
      "text/plain": [
       "<Figure size 1800x500 with 3 Axes>"
      ]
     },
     "metadata": {},
     "output_type": "display_data"
    }
   ],
   "source": [
    "plot(\n",
    "    [belief_dynamic(5, w1),\n",
    "     belief_dynamic(5, w2),\n",
    "     belief_dynamic(5, w3)]\n",
    ")"
   ]
  }
 ],
 "metadata": {
  "kernelspec": {
   "display_name": "Python 3",
   "language": "python",
   "name": "python3"
  },
  "language_info": {
   "codemirror_mode": {
    "name": "ipython",
    "version": 3
   },
   "file_extension": ".py",
   "mimetype": "text/x-python",
   "name": "python",
   "nbconvert_exporter": "python",
   "pygments_lexer": "ipython3",
   "version": "3.13.2"
  }
 },
 "nbformat": 4,
 "nbformat_minor": 5
}
